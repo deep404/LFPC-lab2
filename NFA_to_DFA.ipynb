{
 "cells": [
  {
   "cell_type": "code",
   "execution_count": 1,
   "metadata": {},
   "outputs": [],
   "source": [
    "import pandas as pd"
   ]
  },
  {
   "cell_type": "code",
   "execution_count": 2,
   "metadata": {},
   "outputs": [
    {
     "name": "stdout",
     "output_type": "stream",
     "text": [
      "+---------------------------------+\n",
      "|  STRING FROM GRAMMAR GENERATOR  |\n",
      "|        AF = (Q,Ʃ,δ,q0,F)        |\n",
      "|                                 |\n",
      "| Q - finite set of states        |\n",
      "| Ʃ - set of Input Symbols        |\n",
      "| δ - Transition Function         |\n",
      "| A - Initial State               |\n",
      "| F - Final State                 |\n",
      "+---------------------------------+\n"
     ]
    }
   ],
   "source": [
    "print('+---------------------------------+')\n",
    "print('|  STRING FROM GRAMMAR GENERATOR  |')\n",
    "print('|        AF = (Q,Ʃ,δ,q0,F)        |')\n",
    "print('|                                 |')\n",
    "print('| Q - finite set of states        |')\n",
    "print('| Ʃ - set of Input Symbols        |')\n",
    "print('| δ - Transition Function         |')\n",
    "print('| A - Initial State               |')\n",
    "print('| F - Final State                 |')\n",
    "print('+---------------------------------+')"
   ]
  },
  {
   "cell_type": "code",
   "execution_count": 3,
   "metadata": {},
   "outputs": [
    {
     "name": "stdout",
     "output_type": "stream",
     "text": [
      "Set input symbols [Ʃ] (type \"next\" to next step):a\n",
      "Ʃ = {a}\n",
      "b\n",
      "Ʃ = {a, b}\n",
      "c\n",
      "Ʃ = {a, b, c}\n",
      "next\n"
     ]
    }
   ],
   "source": [
    "terminal_symbols = []\n",
    "aux = ''\n",
    "aux = input('Set input symbols [Ʃ] (type \"next\" to next step):')\n",
    "while (aux != 'next'):\n",
    "    output = ''\n",
    "    terminal_symbols.append(aux)\n",
    "    output += 'Ʃ = {'\n",
    "    for x in terminal_symbols:\n",
    "        output += x + ', '\n",
    "    output = output[:(len(output) - 2)]\n",
    "    output += '}'\n",
    "    print(output)\n",
    "    aux = input()"
   ]
  },
  {
   "cell_type": "code",
   "execution_count": 4,
   "metadata": {},
   "outputs": [
    {
     "name": "stdout",
     "output_type": "stream",
     "text": [
      "Set finite of states [Q] (type \"next\" to next step):A\n",
      "Q = {A}\n",
      "B\n",
      "Q = {A, B}\n",
      "C\n",
      "Q = {A, B, C}\n",
      "D\n",
      "Q = {A, B, C, D}\n",
      "next\n"
     ]
    }
   ],
   "source": [
    "nonterminal_symbols = []\n",
    "aux = input('Set finite of states [Q] (type \"next\" to next step):')\n",
    "while(aux != 'next'):\n",
    "    output = ''\n",
    "    nonterminal_symbols.append(aux)\n",
    "    output += 'Q = {'\n",
    "    for x in nonterminal_symbols:\n",
    "        output += x + ', '\n",
    "    output = output[:(len(output) - 2)]\n",
    "    output += '}'\n",
    "    print(output)\n",
    "    aux = input()"
   ]
  },
  {
   "cell_type": "code",
   "execution_count": 5,
   "metadata": {},
   "outputs": [
    {
     "name": "stdout",
     "output_type": "stream",
     "text": [
      "Set transition function [δ] (type \"next\" for next step):δ(A,a)=A\n",
      "δ(A,a)=B\n",
      "δ(C,a)=C\n",
      "δ(B,b)=C\n",
      "δ(C,c)=D\n",
      "δ(D,c)=D\n",
      "next\n",
      "δ(A,a)=A\n",
      "δ(A,a)=B\n",
      "δ(C,a)=C\n",
      "δ(B,b)=C\n",
      "δ(C,c)=D\n",
      "δ(D,c)=D\n",
      "\n"
     ]
    }
   ],
   "source": [
    "rules = []\n",
    "aux = input('Set transition function [δ] (type \"next\" for next step):')\n",
    "output = ''\n",
    "while (aux != 'next'):\n",
    "    rules.append(aux)\n",
    "    output += aux + '\\n'\n",
    "    aux = input()\n",
    "print(output)"
   ]
  },
  {
   "cell_type": "code",
   "execution_count": 6,
   "metadata": {},
   "outputs": [
    {
     "name": "stdout",
     "output_type": "stream",
     "text": [
      "Set final state [F]:D\n"
     ]
    }
   ],
   "source": [
    "final_state = ''\n",
    "final_state = input('Set final state [F]:')"
   ]
  },
  {
   "cell_type": "code",
   "execution_count": 7,
   "metadata": {},
   "outputs": [
    {
     "name": "stdout",
     "output_type": "stream",
     "text": [
      "Finite Automata is:\n",
      "AF(Q,Ʃ,δ,q0,F)\n",
      "Q = {A, B, C, D}\n",
      "Ʃ = {a, b, c}\n",
      "F = D\n",
      "\tδ(A,a)=A\n",
      "\tδ(A,a)=B\n",
      "\tδ(C,a)=C\n",
      "\tδ(B,b)=C\n",
      "\tδ(C,c)=D\n",
      "\tδ(D,c)=D\n",
      "\n"
     ]
    }
   ],
   "source": [
    "print('Finite Automata is:')\n",
    "print('AF(Q,Ʃ,δ,q0,F)')\n",
    "\n",
    "output = 'Q = {'\n",
    "for x in nonterminal_symbols:\n",
    "    output += x + ', '\n",
    "output = output[:(len(output) - 2)]\n",
    "output += '}'\n",
    "print(output)\n",
    "\n",
    "output = 'Ʃ = {'\n",
    "for x in terminal_symbols:\n",
    "    output += x + ', '\n",
    "output = output[:(len(output) - 2)]\n",
    "output += '}'\n",
    "print(output)\n",
    "\n",
    "print('F = ' + final_state)\n",
    "\n",
    "output = ''\n",
    "for x in rules:\n",
    "    output += '\\t' + x + '\\n'\n",
    "print(output)"
   ]
  },
  {
   "cell_type": "code",
   "execution_count": 9,
   "metadata": {},
   "outputs": [
    {
     "name": "stdout",
     "output_type": "stream",
     "text": [
      "(('a', 'A'), ('a', 'B'))\n",
      "(('b', 'C'),)\n",
      "(('a', 'C'), ('c', 'D'))\n",
      "(('c', 'D'),)\n"
     ]
    }
   ],
   "source": [
    "#Create transition rules dictionary\n",
    "rules_dic = {}\n",
    "for rule in rules:\n",
    "    nss = rule[2] #nonterminal start symbol\n",
    "    ts = rule[4] #terminal symbol\n",
    "    nfs = rule[-1] #nonterminal finish symbol\n",
    "    if nss not in rules_dic:\n",
    "        rules_dic[nss] = []\n",
    "    rules_dic[nss] = list(rules_dic[nss])\n",
    "    rules_dic[nss].insert(len(rules_dic[nss]), (ts, nfs))\n",
    "    rules_dic[nss] = tuple(rules_dic[nss])\n",
    "print(rules_dic['A'])\n",
    "print(rules_dic['B'])\n",
    "print(rules_dic['C'])\n",
    "print(rules_dic['D'])"
   ]
  },
  {
   "cell_type": "code",
   "execution_count": 10,
   "metadata": {},
   "outputs": [
    {
     "name": "stdout",
     "output_type": "stream",
     "text": [
      "NFA :- \n",
      "{'A': {'a': ['A', 'B'], 'b': [], 'c': []}, 'B': {'a': [], 'b': ['C'], 'c': []}, 'C': {'a': ['C'], 'b': [], 'c': ['D']}, 'D': {'a': [], 'b': [], 'c': ['D']}}\n"
     ]
    }
   ],
   "source": [
    "#Create NFA dictionary\n",
    "nfa = {}\n",
    "for x in nonterminal_symbols:\n",
    "    nfa[x] = {}\n",
    "    for y in terminal_symbols:\n",
    "        nfa[x][y] = []\n",
    "        nfa[x][y] = list(nfa[x][y])\n",
    "        for z in rules_dic[x]:\n",
    "            if(z[0] == y):\n",
    "                nfa[x][y].insert(len(nfa[x][y]),z[1])\n",
    "        nfa[x][y] = tuple(nfa[x][y])\n",
    "        nfa[x][y] = list(filter(None, nfa[x][y]))\n",
    "print('NFA :- ')\n",
    "print(nfa)"
   ]
  },
  {
   "cell_type": "code",
   "execution_count": 11,
   "metadata": {},
   "outputs": [
    {
     "name": "stdout",
     "output_type": "stream",
     "text": [
      "Printing NFA table :- \n",
      "        a    b    c\n",
      "A  [A, B]   []   []\n",
      "B      []  [C]   []\n",
      "C     [C]   []  [D]\n",
      "D      []   []  [D]\n"
     ]
    }
   ],
   "source": [
    "#Printing NFA table\n",
    "nfa_table = pd.DataFrame(nfa)\n",
    "print('Printing NFA table :- ')\n",
    "print(nfa_table.transpose())"
   ]
  },
  {
   "cell_type": "code",
   "execution_count": 12,
   "metadata": {},
   "outputs": [],
   "source": [
    "new_states_list = [] #contain all states which are created in dfa\n",
    "dfa = {} #dfa dictionary\n",
    "keys_list = list(list(nfa.keys())[0]) #contains all states from nfa + all states which will be in dfa\n",
    "path_list = list(nfa[keys_list[0]].keys()) #list of all paths"
   ]
  },
  {
   "cell_type": "code",
   "execution_count": 13,
   "metadata": {},
   "outputs": [],
   "source": [
    "#Computing first row of DFA transition table(terminal symbols)\n",
    "dfa[keys_list[0]] = {}\n",
    "for y in range(len(terminal_symbols)):\n",
    "    var = \"\".join(nfa[keys_list[0]][path_list[y]])\n",
    "    dfa[keys_list[0]][path_list[y]] = var\n",
    "    if var not in keys_list:\n",
    "        new_states_list.append(var)\n",
    "        keys_list.append(var)"
   ]
  },
  {
   "cell_type": "code",
   "execution_count": 14,
   "metadata": {},
   "outputs": [
    {
     "data": {
      "text/plain": [
       "{}"
      ]
     },
     "execution_count": 14,
     "metadata": {},
     "output_type": "execute_result"
    }
   ],
   "source": [
    "#Computing the other rows of DFA transition table(terminal symbols)\n",
    "while (len(new_states_list) != 0):\n",
    "    dfa[new_states_list[0]] = {}\n",
    "    for _ in  range(len(new_states_list[0])):\n",
    "        for i in range(len(path_list)):\n",
    "            temp = []\n",
    "            for j in range(len(new_states_list[0])):\n",
    "                temp += nfa[new_states_list[0][j]][path_list[i]]\n",
    "            s = \"\"\n",
    "            s = s.join(temp)\n",
    "            if s not in keys_list:\n",
    "                new_states_list.append(s)\n",
    "                keys_list.append(s)\n",
    "            dfa[new_states_list[0]][path_list[i]] = s\n",
    "    \n",
    "    new_states_list.remove(new_states_list[0])\n",
    "dfa.pop('', None)"
   ]
  },
  {
   "cell_type": "code",
   "execution_count": 15,
   "metadata": {},
   "outputs": [
    {
     "name": "stdout",
     "output_type": "stream",
     "text": [
      "DFA :-\n",
      "{'A': {'a': 'AB', 'b': '', 'c': ''}, 'AB': {'a': 'AB', 'b': 'C', 'c': ''}, 'C': {'a': 'C', 'b': '', 'c': 'D'}, 'D': {'a': '', 'b': '', 'c': 'D'}}\n",
      "Printing DFA table :-\n",
      "     a  b  c\n",
      "A   AB      \n",
      "AB  AB  C   \n",
      "C    C     D\n",
      "D          D\n"
     ]
    }
   ],
   "source": [
    "print('DFA :-')\n",
    "print(dfa)\n",
    "print('Printing DFA table :-')\n",
    "dfa_table = pd.DataFrame(dfa)\n",
    "print(dfa_table.transpose())"
   ]
  },
  {
   "cell_type": "code",
   "execution_count": 16,
   "metadata": {},
   "outputs": [
    {
     "name": "stdout",
     "output_type": "stream",
     "text": [
      "Final states of the DFA are :  ['D']\n"
     ]
    }
   ],
   "source": [
    "dfa_states_list = list(dfa.keys())\n",
    "dfa_final_states = []\n",
    "for x in dfa_states_list:\n",
    "    for i in x:\n",
    "        if i in final_state:\n",
    "            dfa_final_states.append(x)\n",
    "            break\n",
    "print('Final states of the DFA are : ', dfa_final_states)"
   ]
  },
  {
   "cell_type": "code",
   "execution_count": null,
   "metadata": {},
   "outputs": [],
   "source": []
  }
 ],
 "metadata": {
  "kernelspec": {
   "display_name": "Python 3",
   "language": "python",
   "name": "python3"
  },
  "language_info": {
   "codemirror_mode": {
    "name": "ipython",
    "version": 3
   },
   "file_extension": ".py",
   "mimetype": "text/x-python",
   "name": "python",
   "nbconvert_exporter": "python",
   "pygments_lexer": "ipython3",
   "version": "3.8.5"
  }
 },
 "nbformat": 4,
 "nbformat_minor": 4
}
